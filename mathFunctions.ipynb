{
  "cells": [
    {
      "metadata": {},
      "cell_type": "markdown",
      "source": "# 数学関数\nこれらはmathモジュールが必要である。"
    },
    {
      "metadata": {
        "trusted": true
      },
      "cell_type": "code",
      "source": "import math",
      "execution_count": 2,
      "outputs": []
    },
    {
      "metadata": {
        "trusted": true
      },
      "cell_type": "markdown",
      "source": "mathモジュールを使った例\n\n$x$に対して、その常用対数を求め($y = \\log_{10} x$)、整数へと切り下げて1を加える。これにより、$x$の整数部分の桁数がわかる。"
    },
    {
      "metadata": {
        "trusted": true,
        "scrolled": true
      },
      "cell_type": "code",
      "source": "x = 101\ny = math.log10(x)\nprint(f'log_10({x}) = {y}')\nn = math.floor(y)+1\nprint(f'{x}の整数部分は{n}桁です')#文字列中に数値を埋めこむ。\"{x}\"は変数xの値を埋めこむことを表す",
      "execution_count": 3,
      "outputs": [
        {
          "output_type": "stream",
          "text": "log_10(101) = 2.0043213737826426\n101の整数部分は3桁です\n",
          "name": "stdout"
        }
      ]
    },
    {
      "metadata": {},
      "cell_type": "markdown",
      "source": "二つの整数の最大公約数"
    },
    {
      "metadata": {
        "trusted": true,
        "scrolled": true
      },
      "cell_type": "code",
      "source": "math.gcd(21,36)",
      "execution_count": 6,
      "outputs": [
        {
          "output_type": "execute_result",
          "execution_count": 6,
          "data": {
            "text/plain": "3"
          },
          "metadata": {}
        }
      ]
    },
    {
      "metadata": {},
      "cell_type": "markdown",
      "source": "指数関数、対数関数、平方根、三角関数が使える"
    },
    {
      "metadata": {
        "trusted": true
      },
      "cell_type": "markdown",
      "source": "# 【課題】\n小数以下の切り下げ、切り上げの例を作成しなさい。"
    },
    {
      "metadata": {
        "trusted": true
      },
      "cell_type": "code",
      "source": "",
      "execution_count": null,
      "outputs": []
    }
  ],
  "metadata": {
    "kernelspec": {
      "name": "python36",
      "display_name": "Python 3.6",
      "language": "python"
    },
    "language_info": {
      "mimetype": "text/x-python",
      "nbconvert_exporter": "python",
      "name": "python",
      "pygments_lexer": "ipython3",
      "version": "3.6.6",
      "file_extension": ".py",
      "codemirror_mode": {
        "version": 3,
        "name": "ipython"
      }
    }
  },
  "nbformat": 4,
  "nbformat_minor": 2
}